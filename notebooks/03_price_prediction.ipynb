{
 "cells": [
  {
   "cell_type": "code",
   "execution_count": 4,
   "id": "3fa1bf22-27d9-4607-95f5-627df7abd5ad",
   "metadata": {},
   "outputs": [
    {
     "name": "stdout",
     "output_type": "stream",
     "text": [
      "Cleaned dataset shape: (74484, 279)\n"
     ]
    }
   ],
   "source": [
    "import pandas as pd\n",
    "import numpy as np\n",
    "\n",
    "# Load\n",
    "df = pd.read_csv(\"../data/listings_combined.csv\", low_memory=False)\n",
    "\n",
    "# Clean price column\n",
    "df = df[df['price'].notnull()]\n",
    "df['price'] = df['price'].replace(r'[\\$,]', '', regex=True).astype(float)\n",
    "\n",
    "# Filter rows with missing key features\n",
    "important_features = ['accommodates', 'bedrooms', 'bathrooms', 'beds', \n",
    "                      'room_type', 'property_type', 'latitude', 'longitude',\n",
    "                      'review_scores_rating', 'availability_365']\n",
    "df = df.dropna(subset=important_features)\n",
    "\n",
    "# Select useful features \n",
    "features = ['accommodates', 'bedrooms', 'bathrooms', 'beds', 'latitude', 'longitude',\n",
    "            'room_type', 'property_type', 'city', 'review_scores_rating', 'availability_365']\n",
    "target = 'price'\n",
    "\n",
    "# One-hot encode categorical variables \n",
    "df_model = pd.get_dummies(df[features + [target]], drop_first=True)\n",
    "\n",
    "# Cleaned Data\n",
    "print(f\"Cleaned dataset shape: {df_model.shape}\")\n",
    "df_model.to_csv(\"../data/price_model_data.csv\", index=False)"
   ]
  },
  {
   "cell_type": "code",
   "execution_count": 6,
   "id": "ac8eab40-198f-4b31-9853-b5211f85c390",
   "metadata": {},
   "outputs": [
    {
     "name": "stdout",
     "output_type": "stream",
     "text": [
      "Final Random Forest Model Evaluation:\n",
      "RMSE (Root Mean Squared Error): 102.11\n",
      "MAE  (Mean Absolute Error): 60.74\n",
      "R² Score (Variance Explained): 0.6692\n"
     ]
    }
   ],
   "source": [
    "import pandas as pd\n",
    "import numpy as np\n",
    "from sklearn.ensemble import RandomForestRegressor\n",
    "from sklearn.model_selection import train_test_split\n",
    "from sklearn.metrics import mean_squared_error, mean_absolute_error, r2_score\n",
    "import joblib\n",
    "\n",
    "# Load cleaned data\n",
    "df = pd.read_csv(\"../data/price_model_data.csv\")\n",
    "\n",
    "# Remove price outliers and apply log transform\n",
    "df = df[df['price'] < 1000]\n",
    "df['log_price'] = np.log1p(df['price'])\n",
    "\n",
    "# Split for final evaluation\n",
    "X = df.drop(columns=['price', 'log_price'])\n",
    "y = df['log_price']\n",
    "X_train, X_test, y_train, y_test = train_test_split(\n",
    "    X, y, test_size=0.2, random_state=42\n",
    ")\n",
    "\n",
    "# Train final Random Forest with best hyperparameters\n",
    "final_model = RandomForestRegressor(\n",
    "    n_estimators=200,\n",
    "    max_depth=30,\n",
    "    min_samples_split=2,\n",
    "    min_samples_leaf=2,\n",
    "    max_features=None,\n",
    "    n_jobs=-1,\n",
    "    random_state=42\n",
    ")\n",
    "\n",
    "final_model.fit(X_train, y_train)\n",
    "\n",
    "# Predict on test set\n",
    "y_pred_log = final_model.predict(X_test)\n",
    "y_pred_actual = np.expm1(y_pred_log)\n",
    "y_test_actual = np.expm1(y_test)\n",
    "\n",
    "# Evaluate metrics\n",
    "rmse = mean_squared_error(y_test_actual, y_pred_actual, squared=False)\n",
    "mae = mean_absolute_error(y_test_actual, y_pred_actual)\n",
    "r2 = r2_score(y_test_actual, y_pred_actual)\n",
    "\n",
    "print(\"Final Random Forest Model Evaluation:\")\n",
    "print(f\"RMSE (Root Mean Squared Error): {rmse:.2f}\")\n",
    "print(f\"MAE  (Mean Absolute Error): {mae:.2f}\")\n",
    "print(f\"R² Score (Variance Explained): {r2:.4f}\")\n",
    "\n",
    "# Step 6: Save model and feature list\n",
    "joblib.dump(final_model, '../airbnb_app/airbnb_price_model_rf.pkl')\n",
    "pd.Series(X.columns).to_csv(\"../airbnb_app/airbnb_price_model_features.csv\", index=False)\n"
   ]
  },
  {
   "cell_type": "code",
   "execution_count": null,
   "id": "8af8b461-6475-4867-b205-67989bbb4c04",
   "metadata": {},
   "outputs": [],
   "source": []
  }
 ],
 "metadata": {
  "kernelspec": {
   "display_name": "base",
   "language": "python",
   "name": "python3"
  },
  "language_info": {
   "codemirror_mode": {
    "name": "ipython",
    "version": 3
   },
   "file_extension": ".py",
   "mimetype": "text/x-python",
   "name": "python",
   "nbconvert_exporter": "python",
   "pygments_lexer": "ipython3",
   "version": "3.11.7"
  }
 },
 "nbformat": 4,
 "nbformat_minor": 5
}
