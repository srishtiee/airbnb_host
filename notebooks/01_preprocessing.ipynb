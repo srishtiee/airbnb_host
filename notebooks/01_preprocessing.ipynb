{
 "cells": [
  {
   "cell_type": "code",
   "execution_count": 2,
   "metadata": {},
   "outputs": [],
   "source": [
    "# 01_preprocessing.ipynb\n",
    "\n",
    "import pandas as pd\n",
    "import numpy as np\n",
    "from sklearn.preprocessing import LabelEncoder, StandardScaler\n",
    "from datetime import datetime"
   ]
  },
  {
   "cell_type": "code",
   "execution_count": 8,
   "metadata": {},
   "outputs": [],
   "source": [
    "# Load dataset\n",
    "df = pd.read_csv(\"../data/listings_combined.csv\", low_memory=False)\n",
    "\n",
    "# Drop irrelevant or high-cardinality columns\n",
    "columns_to_drop = [\n",
    "    'id', 'listing_url', 'scrape_id', 'last_scraped', 'source', 'name', 'description',\n",
    "    'neighborhood_overview', 'picture_url', 'host_url', 'host_name', 'host_about',\n",
    "    'host_thumbnail_url', 'host_picture_url', 'host_verifications', 'license'\n",
    "]\n",
    "df.drop(columns=columns_to_drop, inplace=True, errors='ignore')"
   ]
  },
  {
   "cell_type": "code",
   "execution_count": 10,
   "metadata": {},
   "outputs": [],
   "source": [
    "# Handle price column: remove \"$\" and \",\"\n",
    "df['price'] = df['price'].replace(r'[\\$,]', '', regex=True).astype(float)\n",
    "\n",
    "# Feature: amenities_count\n",
    "df['amenities_count'] = df['amenities'].apply(lambda x: len(eval(x)) if pd.notnull(x) else 0)\n",
    "\n",
    "# Feature: host_experience_years\n",
    "df['host_since'] = pd.to_datetime(df['host_since'], errors='coerce')\n",
    "df['host_experience_years'] = datetime.now().year - df['host_since'].dt.year\n",
    "\n",
    "# Select features of interest\n",
    "selected_features = [\n",
    "    'accommodates', 'bedrooms', 'beds', 'amenities_count', 'host_experience_years',\n",
    "    'latitude', 'longitude', 'property_type', 'room_type', 'price', 'city'\n",
    "]\n",
    "df = df[selected_features]"
   ]
  },
  {
   "cell_type": "code",
   "execution_count": 12,
   "metadata": {},
   "outputs": [],
   "source": [
    "# Drop rows with nulls\n",
    "df.dropna(inplace=True)\n",
    "\n",
    "# Encode categorical variables\n",
    "label_cols = ['property_type', 'room_type', 'city']\n",
    "for col in label_cols:\n",
    "    le = LabelEncoder()\n",
    "    df[col] = le.fit_transform(df[col])"
   ]
  },
  {
   "cell_type": "code",
   "execution_count": 14,
   "metadata": {},
   "outputs": [
    {
     "name": "stdout",
     "output_type": "stream",
     "text": [
      "Preprocessing complete. Cleaned data saved.\n"
     ]
    }
   ],
   "source": [
    "# Scale features (except price)\n",
    "scaler = StandardScaler()\n",
    "features_to_scale = ['accommodates', 'bedrooms', 'beds', 'amenities_count', 'host_experience_years', 'latitude', 'longitude']\n",
    "df[features_to_scale] = scaler.fit_transform(df[features_to_scale])\n",
    "\n",
    "# Save processed data\n",
    "df.to_csv(\"../data/listings_cleaned.csv\", index=False)\n",
    "print(\"Preprocessing complete. Cleaned data saved.\")"
   ]
  },
  {
   "cell_type": "code",
   "execution_count": null,
   "metadata": {},
   "outputs": [],
   "source": []
  }
 ],
 "metadata": {
  "kernelspec": {
   "display_name": "Python (base)",
   "language": "python",
   "name": "base"
  },
  "language_info": {
   "codemirror_mode": {
    "name": "ipython",
    "version": 3
   },
   "file_extension": ".py",
   "mimetype": "text/x-python",
   "name": "python",
   "nbconvert_exporter": "python",
   "pygments_lexer": "ipython3",
   "version": "3.12.2"
  }
 },
 "nbformat": 4,
 "nbformat_minor": 4
}
