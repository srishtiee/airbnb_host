{
 "cells": [
  {
   "cell_type": "code",
   "execution_count": 13,
   "metadata": {},
   "outputs": [
    {
     "name": "stderr",
     "output_type": "stream",
     "text": [
      "<>:18: SyntaxWarning: invalid escape sequence '\\$'\n",
      "<>:18: SyntaxWarning: invalid escape sequence '\\$'\n",
      "/var/folders/xk/bly8fsxd5gxfph2_rm664xkw0000gn/T/ipykernel_54554/438729624.py:18: SyntaxWarning: invalid escape sequence '\\$'\n",
      "  df['price'] = df['price'].replace('[\\$,]', '', regex=True).astype(float)\n"
     ]
    }
   ],
   "source": [
    "# Step 1: Load and Preprocess Airbnb Listings Data\n",
    "\n",
    "import pandas as pd\n",
    "import ast\n",
    "from pathlib import Path\n",
    "\n",
    "# Load the raw dataset\n",
    "df = pd.read_csv('/Users/srishtibankar/Documents/CMPE255/project/airbnb_host/data/listings.csv')\n",
    "\n",
    "# Drop irrelevant columns\n",
    "df = df.drop(columns=[\n",
    "    'id', 'listing_url', 'scrape_id', 'last_scraped', 'source',\n",
    "    'picture_url', 'host_id', 'host_url', 'host_name', 'host_picture_url',\n",
    "    'host_thumbnail_url', 'calendar_last_scraped', 'license'\n",
    "])\n",
    "\n",
    "# Clean price column\n",
    "df['price'] = df['price'].replace('[\\$,]', '', regex=True).astype(float)\n",
    "\n",
    "# Drop rows with missing values in clustering/relevant columns\n",
    "df = df.dropna(subset=[\n",
    "    'latitude', 'longitude', 'accommodates', 'bedrooms', 'beds', 'amenities', 'price'\n",
    "])\n",
    "\n",
    "def safe_count_amenities(x):\n",
    "    try:\n",
    "        return len(ast.literal_eval(x)) if isinstance(x, str) and x.startswith('[') else 0\n",
    "    except:\n",
    "        return 0\n",
    "\n",
    "df['amenities_count'] = df['amenities'].apply(safe_count_amenities)\n",
    "\n",
    "# Host experience in years\n",
    "df['host_since'] = pd.to_datetime(df['host_since'], errors='coerce')\n",
    "df['host_experience_years'] = (pd.to_datetime('today') - df['host_since']).dt.days // 365\n",
    "df['host_experience_years'] = df['host_experience_years'].fillna(0)\n",
    "\n",
    "# Save cleaned dataset for downstream use\n",
    "Path('../data').mkdir(parents=True, exist_ok=True)\n",
    "df.to_csv('../data/cleaned_listings.csv', index=False)"
   ]
  }
 ],
 "metadata": {
  "kernelspec": {
   "display_name": "Python (base)",
   "language": "python",
   "name": "base"
  },
  "language_info": {
   "codemirror_mode": {
    "name": "ipython",
    "version": 3
   },
   "file_extension": ".py",
   "mimetype": "text/x-python",
   "name": "python",
   "nbconvert_exporter": "python",
   "pygments_lexer": "ipython3",
   "version": "3.12.2"
  }
 },
 "nbformat": 4,
 "nbformat_minor": 2
}
